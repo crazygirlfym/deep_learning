{
 "cells": [
  {
   "cell_type": "code",
   "execution_count": 4,
   "metadata": {},
   "outputs": [
    {
     "name": "stdout",
     "output_type": "stream",
     "text": [
      "Populating the interactive namespace from numpy and matplotlib\n",
      "[[[ 0.00546899  0.01181663  0.0192248   0.00712632]]]\n",
      "[2 1 1 4]\n",
      "[[[ 0.00546899]\n",
      "  [ 0.0192248 ]]\n",
      "\n",
      " [[ 0.01181663]\n",
      "  [ 0.00712632]]]\n",
      "[2 2 2 1]\n"
     ]
    },
    {
     "name": "stderr",
     "output_type": "stream",
     "text": [
      "/anaconda/lib/python3.6/site-packages/IPython/core/magics/pylab.py:161: UserWarning: pylab import has clobbered these variables: ['flatten']\n",
      "`%matplotlib` prevents importing * from pylab and numpy\n",
      "  \"\\n`%matplotlib` prevents importing * from pylab and numpy\"\n"
     ]
    }
   ],
   "source": [
    "from layers import *\n",
    "%pylab inline\n",
    "import tensorflow as tf\n",
    "x = tf.Variable(tf.random_normal([2, 1, 1, 4], stddev=0.01))\n",
    "r=2\n",
    "bsize, a, b, c = x.get_shape().as_list()\n",
    "X_1 = scala_transfer(x,r)\n",
    "with tf.Session()as sess:\n",
    "    init_op = tf.global_variables_initializer()\n",
    "    sess.run(init_op)\n",
    "    print(sess.run(x)[0])\n",
    "    print(sess.run(tf.shape(x)))\n",
    "\n",
    "    print(sess.run(X_1)[0])\n",
    "    print(sess.run(tf.shape(X_1)))\n",
    "    \n",
    "\n"
   ]
  },
  {
   "cell_type": "code",
   "execution_count": null,
   "metadata": {
    "collapsed": true
   },
   "outputs": [],
   "source": []
  }
 ],
 "metadata": {
  "kernelspec": {
   "display_name": "Python 3",
   "language": "python",
   "name": "python3"
  },
  "language_info": {
   "codemirror_mode": {
    "name": "ipython",
    "version": 3
   },
   "file_extension": ".py",
   "mimetype": "text/x-python",
   "name": "python",
   "nbconvert_exporter": "python",
   "pygments_lexer": "ipython3",
   "version": "3.6.1"
  }
 },
 "nbformat": 4,
 "nbformat_minor": 2
}
