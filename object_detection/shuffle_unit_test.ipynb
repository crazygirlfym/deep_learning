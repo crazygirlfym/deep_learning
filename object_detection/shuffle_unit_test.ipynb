{
 "cells": [
  {
   "cell_type": "code",
   "execution_count": 1,
   "metadata": {},
   "outputs": [
    {
     "name": "stdout",
     "output_type": "stream",
     "text": [
      "[  1 112 112 239]\n",
      "[  1 112 112  32]\n",
      "[  1 224 224  51]\n",
      "[  1 224 224  51]\n",
      "[  1 226 226  51]\n",
      "[  1 112 112  51]\n",
      "[  1 112 112 207]\n",
      "[  1 112 112 239]\n"
     ]
    }
   ],
   "source": [
    "from layers import *\n",
    "from units_struct import *\n",
    "import tensorflow as tf\n",
    "\n",
    "# W1 = tf.Variable(tf.random_normal([3, 3, 1, 32], stddev=0.01))\n",
    "\n",
    "\n",
    "is_training=True\n",
    "batchnorm_enabled=False\n",
    "l2_strength=0.01\n",
    "num_groups=3\n",
    "stage = 2\n",
    "bias = 1.0\n",
    "output_channels = {'1': [144, 288, 576], '2': [200, 400, 800], '3': [240, 480, 960], '4': [272, 544, 1088],\n",
    "                                '8': [384, 768, 1536], 'conv1': 24}\n",
    "\n",
    "## [batch_size, width, height, channel]\n",
    "x = tf.Variable(tf.random_normal([1, 224, 224, 32], stddev=0.01))\n",
    "residual = x\n",
    "# bottleneck_filters = (output_channels[str(num_groups)][stage - 2] - residual.get_shape()[3].value) // 4\n",
    "\n",
    "\n",
    "stage_layer = shufflenet_unit('stage' + str(stage) + '_0', x=x, w=None,\n",
    "                                          num_groups=num_groups,\n",
    "                                          group_conv_bottleneck=not (stage == 2),\n",
    "                                          num_filters=\n",
    "                                          output_channels[str(num_groups)][\n",
    "                                              stage - 2],\n",
    "                                          stride=(2, 2),\n",
    "                                          fusion='concat', l2_strength=l2_strength,\n",
    "                                          bias=bias,\n",
    "                                          batchnorm_enabled=False,\n",
    "                                          is_training=True)\n",
    "\n",
    "residual_pooled = avg_pool_2d(residual, size=(3, 3), stride=(2,2), padding='SAME')\n",
    "\n",
    "bottleneck = grouped_conv2d('Gbottleneck', x=x, w=None, num_filters=52, kernel_size=(1, 1),\n",
    "                                        padding='VALID',\n",
    "                                        num_groups=num_groups, l2_strength=l2_strength, bias=bias,\n",
    "                                        activation=None,\n",
    "                                        batchnorm_enabled=False, is_training=True)\n",
    "shuffled = channel_shuffle('channel_shuffle', bottleneck, num_groups)\n",
    "\n",
    "\n",
    "\n",
    "padded = tf.pad(shuffled, [[0, 0], [1, 1], [1, 1], [0, 0]], \"CONSTANT\")\n",
    "depthwise = depthwise_conv2d('depthwise', x=padded, w=None, stride=(2,2), l2_strength=l2_strength,\n",
    "                                     padding='VALID', bias=bias,\n",
    "                                     activation=None, batchnorm_enabled=False, is_training=True)\n",
    "\n",
    "group_conv1x1 = grouped_conv2d('Gconv1x1', x=depthwise, w=None,\n",
    "                                           num_filters=240 - residual.get_shape()[3].value,\n",
    "                                           kernel_size=(1, 1),\n",
    "                                           padding='VALID',\n",
    "                                           num_groups=num_groups, l2_strength=l2_strength, bias=bias,\n",
    "                                           activation=None,\n",
    "                                           batchnorm_enabled=False, is_training=True)\n",
    "final = tf.concat([residual_pooled, group_conv1x1], axis=-1)\n",
    "with tf.Session()as sess:\n",
    "    init_op = tf.global_variables_initializer()\n",
    "    sess.run(init_op)\n",
    "    \n",
    "    print(sess.run(tf.shape(stage_layer)))\n",
    "    print(sess.run(tf.shape(residual_pooled)))\n",
    "    print(sess.run(tf.shape(bottleneck)))\n",
    "    print(sess.run(tf.shape(shuffled)))\n",
    "    print(sess.run(tf.shape(padded)))\n",
    "    print(sess.run(tf.shape(depthwise)))\n",
    "    print(sess.run(tf.shape(group_conv1x1)))\n",
    "    print(sess.run(tf.shape(final)))\n",
    "    \n",
    "\n",
    "\n",
    "\n",
    "\n",
    "    \n",
    "\n",
    "    "
   ]
  },
  {
   "cell_type": "code",
   "execution_count": null,
   "metadata": {
    "collapsed": true
   },
   "outputs": [],
   "source": []
  },
  {
   "cell_type": "code",
   "execution_count": null,
   "metadata": {
    "collapsed": true
   },
   "outputs": [],
   "source": []
  }
 ],
 "metadata": {
  "kernelspec": {
   "display_name": "Python 3",
   "language": "python",
   "name": "python3"
  },
  "language_info": {
   "codemirror_mode": {
    "name": "ipython",
    "version": 3
   },
   "file_extension": ".py",
   "mimetype": "text/x-python",
   "name": "python",
   "nbconvert_exporter": "python",
   "pygments_lexer": "ipython3",
   "version": "3.6.1"
  }
 },
 "nbformat": 4,
 "nbformat_minor": 2
}
